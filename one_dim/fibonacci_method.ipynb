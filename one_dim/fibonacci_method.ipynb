{
  "cells": [
    {
      "cell_type": "markdown",
      "id": "4fecb8ab",
      "metadata": {
        "id": "4fecb8ab"
      },
      "source": [
        "# One dimensional optimization\n",
        "\n",
        "## Fibonacci method"
      ]
    },
    {
      "cell_type": "code",
      "execution_count": 1,
      "id": "1c182c08",
      "metadata": {
        "id": "1c182c08",
        "outputId": "97a9d249-b437-43c9-d7aa-6010bd2b9789",
        "colab": {
          "base_uri": "https://localhost:8080/"
        }
      },
      "outputs": [
        {
          "output_type": "stream",
          "name": "stdout",
          "text": [
            "--2022-11-09 13:24:26--  https://github.com/Egor200313/optimization/blob/master/one_dim/optimizer.py\n",
            "Resolving github.com (github.com)... 140.82.121.4\n",
            "Connecting to github.com (github.com)|140.82.121.4|:443... connected.\n",
            "HTTP request sent, awaiting response... 200 OK\n",
            "Length: unspecified [text/html]\n",
            "Saving to: ‘optimizer.py’\n",
            "\n",
            "optimizer.py            [ <=>                ] 154.88K  --.-KB/s    in 0.03s   \n",
            "\n",
            "2022-11-09 13:24:26 (5.18 MB/s) - ‘optimizer.py’ saved [158602]\n",
            "\n"
          ]
        }
      ],
      "source": [
        "# from colab\n",
        "#! wget https://github.com/Egor200313/optimization/blob/master/one_dim/optimizer.py -nc"
      ]
    },
    {
      "cell_type": "code",
      "execution_count": null,
      "id": "37722c81",
      "metadata": {
        "id": "37722c81"
      },
      "outputs": [],
      "source": []
    }
  ],
  "metadata": {
    "kernelspec": {
      "display_name": "Python 3",
      "language": "python",
      "name": "python3"
    },
    "language_info": {
      "codemirror_mode": {
        "name": "ipython",
        "version": 3
      },
      "file_extension": ".py",
      "mimetype": "text/x-python",
      "name": "python",
      "nbconvert_exporter": "python",
      "pygments_lexer": "ipython3",
      "version": "3.9.15"
    },
    "colab": {
      "provenance": []
    }
  },
  "nbformat": 4,
  "nbformat_minor": 5
}