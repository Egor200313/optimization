{
  "cells": [
    {
      "cell_type": "markdown",
      "id": "4fecb8ab",
      "metadata": {
        "id": "4fecb8ab"
      },
      "source": [
        "# One dimensional optimization\n",
        "\n",
        "## Fibonacci method"
      ]
    },
    {
      "cell_type": "code",
      "execution_count": 8,
      "id": "1c182c08",
      "metadata": {
        "colab": {
          "base_uri": "https://localhost:8080/"
        },
        "id": "1c182c08",
        "outputId": "6e2463cc-05cc-4d74-85c6-44dee1abdcaf"
      },
      "outputs": [
        {
          "output_type": "stream",
          "name": "stdout",
          "text": [
            "--2022-11-09 13:54:12--  https://raw.githubusercontent.com/Egor200313/optimization/master/one_dim/optimizer.py\n",
            "Resolving raw.githubusercontent.com (raw.githubusercontent.com)... 185.199.111.133, 185.199.110.133, 185.199.109.133, ...\n",
            "Connecting to raw.githubusercontent.com (raw.githubusercontent.com)|185.199.111.133|:443... connected.\n",
            "HTTP request sent, awaiting response... 200 OK\n",
            "Length: 916 [text/plain]\n",
            "Saving to: ‘optimizer.py’\n",
            "\n",
            "\roptimizer.py          0%[                    ]       0  --.-KB/s               \roptimizer.py        100%[===================>]     916  --.-KB/s    in 0s      \n",
            "\n",
            "2022-11-09 13:54:12 (48.1 MB/s) - ‘optimizer.py’ saved [916/916]\n",
            "\n"
          ]
        }
      ],
      "source": [
        "# from colab\n",
        "! wget https://raw.githubusercontent.com/Egor200313/optimization/master/one_dim/optimizer.py -nc"
      ]
    },
    {
      "cell_type": "code",
      "execution_count": 9,
      "id": "37722c81",
      "metadata": {
        "id": "37722c81"
      },
      "outputs": [],
      "source": [
        "import numpy as np\n",
        "import matplotlib.pyplot as plt"
      ]
    },
    {
      "cell_type": "code",
      "source": [
        "from optimizer import optimize_one_dim\n",
        "\n",
        "def f(x):\n",
        "  return (x - 4.0)**2 + 2.0\n",
        "\n",
        "N = 100\n",
        "mistake = []\n",
        "for iterations in range(1, N + 1):\n",
        "  point = optimize_one_dim(0.0, 1000.0, 0.0, iterations, f)\n",
        "  mis = abs(4.0 - point)\n",
        "  mistake.append(mis)\n",
        "\n",
        "plt.figure(figsize=(10,8))\n",
        "plt.title(\"Сходимость метода\")\n",
        "plt.plot(np.arange(1, N + 1), mistake, c='red', label=\"mistake\")\n",
        "plt.xlabel(\"max_iter\")\n",
        "plt.ylabel(\"mistake\")\n",
        "plt.legend()\n",
        "plt.grid()\n",
        "plt.show()"
      ],
      "metadata": {
        "id": "lB5BhgXCoRTx",
        "outputId": "995671c8-7436-43c0-c13a-c4a2b4c1642f",
        "colab": {
          "base_uri": "https://localhost:8080/",
          "height": 514
        }
      },
      "id": "lB5BhgXCoRTx",
      "execution_count": 22,
      "outputs": [
        {
          "output_type": "display_data",
          "data": {
            "text/plain": [
              "<Figure size 720x576 with 1 Axes>"
            ],
            "image/png": "[encoded data removed]"
          },
          "metadata": {
            "needs_background": "light"
          }
        }
      ]
    }
  ],
  "metadata": {
    "kernelspec": {
      "display_name": "Python 3",
      "language": "python",
      "name": "python3"
    },
    "language_info": {
      "codemirror_mode": {
        "name": "ipython",
        "version": 3
      },
      "file_extension": ".py",
      "mimetype": "text/x-python",
      "name": "python",
      "nbconvert_exporter": "python",
      "pygments_lexer": "ipython3",
      "version": "3.9.15"
    },
    "colab": {
      "provenance": []
    }
  },
  "nbformat": 4,
  "nbformat_minor": 5
}